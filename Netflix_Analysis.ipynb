{
  "nbformat": 4,
  "nbformat_minor": 0,
  "metadata": {
    "colab": {
      "private_outputs": true,
      "provenance": [],
      "include_colab_link": true
    },
    "kernelspec": {
      "name": "python3",
      "display_name": "Python 3"
    },
    "language_info": {
      "name": "python"
    }
  },
  "cells": [
    {
      "cell_type": "markdown",
      "metadata": {
        "id": "view-in-github",
        "colab_type": "text"
      },
      "source": [
        "<a href=\"https://colab.research.google.com/github/khushigoswami087/Data-Analysis-On-Netflix/blob/main/Netflix_Analysis.ipynb\" target=\"_parent\"><img src=\"https://colab.research.google.com/assets/colab-badge.svg\" alt=\"Open In Colab\"/></a>"
      ]
    },
    {
      "cell_type": "markdown",
      "source": [
        "**1. Importing all the necessary library**"
      ],
      "metadata": {
        "id": "rKrJaZtLade2"
      }
    },
    {
      "cell_type": "code",
      "execution_count": null,
      "metadata": {
        "id": "ibe7Gv89QSx8"
      },
      "outputs": [],
      "source": [
        "from IPython.display import display, HTML, Image\n",
        "import pandas as pd\n",
        "import matplotlib.pyplot as plt\n",
        "import seaborn as sns\n",
        "from matplotlib import rcParams"
      ]
    },
    {
      "cell_type": "markdown",
      "source": [
        "**2. Design The Image**"
      ],
      "metadata": {
        "id": "ZgCr_qiJaZip"
      }
    },
    {
      "cell_type": "code",
      "source": [
        "# design the image\n",
        "plt.figure(facecolor = \"black\", figsize = (18, 10))\n",
        "plt.text(0.5, 0.75, 'NETFLIX',\n",
        "        fontsize = 120, fontweight = 'bold',\n",
        "        ha = 'center', va = 'center',\n",
        "        color = '#E50914',\n",
        "        fontfamily = 'Impact')\n",
        "plt.text(0.5, 0.45, 'DATA ANALYSIS',\n",
        "        fontsize = 45,\n",
        "        ha = 'center', va = 'center',\n",
        "        color = 'white',\n",
        "        fontfamily = 'Impact')\n",
        "plt.text(0.5, 0.25, 'By Khushi Goswami',\n",
        "        fontsize = 28,\n",
        "        ha = 'center', va = 'center',\n",
        "        color = '#F5F5F1',\n",
        "        fontfamily = 'Impact')\n",
        "plt.axis('off')\n",
        "plt.tight_layout()\n",
        "plt.show()"
      ],
      "metadata": {
        "id": "hAY75qNbW15-"
      },
      "execution_count": null,
      "outputs": []
    },
    {
      "cell_type": "code",
      "source": [
        "data = pd.read_csv(\"/content/netflix_titles.csv\")"
      ],
      "metadata": {
        "id": "yINmwAljW3GS"
      },
      "execution_count": null,
      "outputs": []
    },
    {
      "cell_type": "code",
      "source": [
        "data.head()"
      ],
      "metadata": {
        "id": "6UHpIWHvXC7o"
      },
      "execution_count": null,
      "outputs": []
    },
    {
      "cell_type": "markdown",
      "source": [
        "**3. Check for Duplicate records**"
      ],
      "metadata": {
        "id": "HAI8bBifaVNy"
      }
    },
    {
      "cell_type": "code",
      "source": [
        "# check for duplicate records\n",
        "duplicates = data.duplicated().sum()\n",
        "print(f\"Number of Duplicate records found: {duplicates}\")\n",
        "data.drop_duplicates(inplace = True)\n",
        "print(f\"Shape after removing duplicates: {data.shape}\")"
      ],
      "metadata": {
        "id": "uv7RiA7rXEKe"
      },
      "execution_count": null,
      "outputs": []
    },
    {
      "cell_type": "markdown",
      "source": [
        "**4. Data Cleaning**"
      ],
      "metadata": {
        "id": "Aw5E17nZaRbY"
      }
    },
    {
      "cell_type": "code",
      "source": [
        "# data cleaning\n",
        "missing_values = data.isnull().sum()\n",
        "print(missing_values)\n",
        "\n",
        "data['director'] = data['director'].fillna(\"Unknown\")\n",
        "data['cast'] = data['cast'].fillna(\"Not Available\")\n",
        "\n",
        "country_mode = data['country'].mode()[0]\n",
        "data['country'] = data['country'].fillna(country_mode)\n",
        "\n",
        "data['date_added'] = data['date_added'].str.strip()\n",
        "data['date_added'] = pd.to_datetime(data['date_added'], errors='coerce')\n",
        "data = data.dropna(subset=['date_added'])\n",
        "\n",
        "rating_mode = data['rating'].mode()[0]\n",
        "data['rating'] = data['rating'].fillna(rating_mode)\n",
        "\n",
        "print(f\"Missing values after treatment: {data.isnull().sum()}\")\n",
        "\n",
        "print(data.dtypes)\n",
        "\n",
        "data['Date_N'] = pd.to_datetime(data['date_added'], errors = 'coerce')\n",
        "data['Year'] = data['Date_N'].dt.year\n",
        "data['Month'] = data['Date_N'].dt.month_name()"
      ],
      "metadata": {
        "id": "DijL0GmsXIWy"
      },
      "execution_count": null,
      "outputs": []
    },
    {
      "cell_type": "markdown",
      "source": [
        "**5. Content type distribution**"
      ],
      "metadata": {
        "id": "npxPHwbpaI3X"
      }
    },
    {
      "cell_type": "code",
      "source": [
        "# content type distribution\n",
        "print(\"\\nContent Type Distribution:\")\n",
        "content_counts = data['type'].value_counts()\n",
        "print(content_counts)\n",
        "\n",
        "plt.figure(figsize=(8, 5))\n",
        "content_counts.plot(kind='bar', color=['skyblue', 'salmon'])\n",
        "plt.title('Movies vs TV Shows on Netflix')\n",
        "plt.xlabel('Category')\n",
        "plt.ylabel('Count')\n",
        "plt.xticks(rotation=0)\n",
        "plt.show()"
      ],
      "metadata": {
        "id": "3wetl_rYXL8A"
      },
      "execution_count": null,
      "outputs": []
    },
    {
      "cell_type": "markdown",
      "source": [
        "**6. Year with highest Number of releases**"
      ],
      "metadata": {
        "id": "-SrEpvi8aF0T"
      }
    },
    {
      "cell_type": "code",
      "source": [
        "# Year with highest Number of releases\n",
        "print(\"\\nYear with highest number of releases:\")\n",
        "yearly_counts = data['Year'].value_counts().head(10)\n",
        "yearly_counts\n",
        "plt.figure(figsize=(12, 6))\n",
        "yearly_counts.sort_index().plot(kind='bar', color='teal')\n",
        "plt.title('Content Releases by Year (Top 10)')\n",
        "plt.xlabel('Year')\n",
        "plt.ylabel('Number of Releases')\n",
        "plt.show()"
      ],
      "metadata": {
        "id": "95kCjZ1yXQi5"
      },
      "execution_count": null,
      "outputs": []
    },
    {
      "cell_type": "markdown",
      "source": [
        "**7. TV shows released in India**"
      ],
      "metadata": {
        "id": "7QRfvOCpaAbT"
      }
    },
    {
      "cell_type": "code",
      "source": [
        "# TV shows released in India\n",
        "print(\"\\nTV Shows released in India:\")\n",
        "indian_tv = data[(data['country'] == 'India') & (data['type'] == 'TV Show')]\n",
        "indian_tv[['title', 'date_added', 'type']]\n",
        "plt.figure(figsize=(10, 6))\n",
        "indian_tv['Year'].value_counts().sort_index().plot(kind='bar', color='green')\n",
        "plt.title('Indian TV Shows by Release Year')\n",
        "plt.xlabel('Year')\n",
        "plt.ylabel('Number of Shows')\n",
        "plt.show()"
      ],
      "metadata": {
        "id": "f4H7wSZMXSo8"
      },
      "execution_count": null,
      "outputs": []
    },
    {
      "cell_type": "markdown",
      "source": [
        "**8. Top 10 Directors**"
      ],
      "metadata": {
        "id": "K13NNdoiZ5o0"
      }
    },
    {
      "cell_type": "code",
      "source": [
        "# Top 10 Directors\n",
        "director_data = data[data['director'] != \"Unknown\"]\n",
        "top_directors = director_data['director'].value_counts().head(10)\n",
        "top_directors\n",
        "plt.figure(figsize=(12, 6))\n",
        "top_directors.plot(kind='barh', color='purple')\n",
        "plt.title('Top 10 Directors on Netflix')\n",
        "plt.xlabel('Number of Titles')\n",
        "plt.ylabel('Director')\n",
        "plt.gca().invert_yaxis()\n",
        "plt.show()"
      ],
      "metadata": {
        "id": "r9ahME1rXUtB"
      },
      "execution_count": null,
      "outputs": []
    },
    {
      "cell_type": "markdown",
      "source": [
        "**9. content ratings**"
      ],
      "metadata": {
        "id": "HhtAphdHZ2Oh"
      }
    },
    {
      "cell_type": "code",
      "source": [
        "# content ratings\n",
        "print(\"\\nContent Ratings:\")\n",
        "ratings = data['rating'].value_counts()\n",
        "ratings\n",
        "plt.figure(figsize=(12, 6))\n",
        "ratings.plot(kind='bar', color='orange')\n",
        "plt.title('Content Distribution by Rating')\n",
        "plt.xlabel('Rating')\n",
        "plt.ylabel('Count')\n",
        "plt.xticks(rotation=45)\n",
        "plt.show()"
      ],
      "metadata": {
        "id": "_g01m3cTXg4t"
      },
      "execution_count": null,
      "outputs": []
    },
    {
      "cell_type": "code",
      "source": [
        "print(\"\\nDuration analysis:\")\n",
        "movies = data[data['type'] == 'Movie'].copy()\n",
        "movies['duration_min'] = movies['duration'].str.extract(r'(\\d+)').astype(float)\n",
        "tv_shows = data[data['type'] == 'TV Show'].copy()\n",
        "tv_shows['Duration_seasons'] = tv_shows['duration'].str.extract(r'(\\d+)').astype(float)\n",
        "print(f\"Longest Movie: {movies['duration_min'].max()} minutes\")\n",
        "print(f\"TV Show with most seasons: {tv_shows['Duration_seasons'].max()} seasons\")\n",
        "plt.figure(figsize=(12, 6))\n",
        "movies['duration_min'].plot(kind='hist', bins=30, color='salmon')\n",
        "plt.title('Distribution of Movie Durations')\n",
        "plt.xlabel('Duration (minutes)')\n",
        "plt.ylabel('Count')\n",
        "plt.show()"
      ],
      "metadata": {
        "id": "ppldYB2YXyqO"
      },
      "execution_count": null,
      "outputs": []
    },
    {
      "cell_type": "code",
      "source": [
        "country_tv = data[data['type'] == 'TV Show']['country'].value_counts().head(10)\n",
        "country_tv\n",
        "plt.figure(figsize=(12, 6))\n",
        "country_tv.plot(kind='barh', color='darkblue')\n",
        "plt.title('Top 10 Countries by TV Show Production')\n",
        "plt.xlabel('Number of TV Shows')\n",
        "plt.ylabel('Country')\n",
        "plt.show()"
      ],
      "metadata": {
        "id": "ONSWFkx6YOnK"
      },
      "execution_count": null,
      "outputs": []
    },
    {
      "cell_type": "markdown",
      "source": [
        "**10. monthly release trends**"
      ],
      "metadata": {
        "id": "04ScHakfZwoj"
      }
    },
    {
      "cell_type": "code",
      "source": [
        "# monthly release trends\n",
        "monthly_releases = data['Month'].value_counts()\n",
        "months_order = ['January', 'February', 'March', 'April', 'May', 'June',\n",
        " 'July', 'August', 'September', 'October', 'November','December']\n",
        "monthly_releases = monthly_releases.reindex(months_order)\n",
        "plt.figure(figsize=(12, 6))\n",
        "monthly_releases.plot(kind='line', marker='o', color='darkgreen')\n",
        "plt.title('Content Releases by Month')\n",
        "plt.xlabel('Month')\n",
        "plt.ylabel('Number of Releases')\n",
        "plt.grid(True)\n",
        "plt.show()"
      ],
      "metadata": {
        "id": "OWJV7pYPYfuv"
      },
      "execution_count": null,
      "outputs": []
    },
    {
      "cell_type": "markdown",
      "source": [
        "**11. Content By Country (Top 10)**"
      ],
      "metadata": {
        "id": "o0OabAyaZppy"
      }
    },
    {
      "cell_type": "code",
      "source": [
        "# content by country (Top 10)\n",
        "top_countries = data['country'].value_counts().head(10)\n",
        "top_countries\n",
        "plt.figure(figsize=(12, 6))\n",
        "top_countries.plot(kind='bar', color='darkred')\n",
        "plt.title('Top 10 Countries by Content Production')\n",
        "plt.xlabel('Country')\n",
        "plt.ylabel('Number of Titles')\n",
        "plt.xticks(rotation=45)\n",
        "plt.show()"
      ],
      "metadata": {
        "id": "V6meb84CY1X1"
      },
      "execution_count": null,
      "outputs": []
    },
    {
      "cell_type": "markdown",
      "source": [
        "**12. Content Type Distribution By rating**"
      ],
      "metadata": {
        "id": "P0BeTS2gZjvi"
      }
    },
    {
      "cell_type": "code",
      "source": [
        "# content type distribution by rating\n",
        "rating_by_type = pd.crosstab(data['rating'], data['type'])\n",
        "rating_by_type\n",
        "plt.figure(figsize=(12, 6))\n",
        "sns.heatmap(rating_by_type, annot=True, fmt='d', cmap='YlOrRd')\n",
        "plt.title('Content Type Distribution by Rating')\n",
        "plt.xlabel('Category')\n",
        "plt.ylabel('Rating')\n",
        "plt.show()"
      ],
      "metadata": {
        "id": "U6xfvWVZY-US"
      },
      "execution_count": null,
      "outputs": []
    },
    {
      "cell_type": "markdown",
      "source": [
        "**13. Duration Vs Rating Analysis**"
      ],
      "metadata": {
        "id": "Oozc9wglZbu_"
      }
    },
    {
      "cell_type": "code",
      "source": [
        "# duration vs rating analysis\n",
        "print(\"\\nAverage Duration by Rating:\")\n",
        "if not movies.empty:\n",
        " duration_by_rating = movies.groupby('rating')['duration_min'].mean().sort_values(ascending=False)\n",
        " duration_by_rating\n",
        " plt.figure(figsize=(12, 6))\n",
        " duration_by_rating.plot(kind='bar', color='darkviolet')\n",
        " plt.title('Average Movie Duration by Rating')\n",
        " plt.xlabel('Rating')\n",
        " plt.ylabel('Average Duration (minutes)')\n",
        " plt.show()\n",
        "else:\n",
        " print(\"No movie data available for duration analysis\")"
      ],
      "metadata": {
        "id": "1008U_EEZHhH"
      },
      "execution_count": null,
      "outputs": []
    },
    {
      "cell_type": "code",
      "source": [],
      "metadata": {
        "id": "CmwYqNU7ZSV9"
      },
      "execution_count": null,
      "outputs": []
    }
  ]
}